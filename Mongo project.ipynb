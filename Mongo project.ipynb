{
 "cells": [
  {
   "cell_type": "markdown",
   "id": "5eb1cb50",
   "metadata": {},
   "source": [
    "# BookSync\n",
    "Менеджер книг\n",
    "***\n",
    "Функции:\n",
    "* **Пользователи** могуть:\n",
    "    * лайкать книги (добавлять в избранное)\n",
    "    * писать отзывы и ставить оценки\n",
    "    * искать книги по названию, и т.п., группировать по жанру, сортировать по рейтингу\n",
    "* **Книги**\n",
    "    * отображают средний рейтинг"
   ]
  },
  {
   "cell_type": "code",
   "execution_count": 26,
   "id": "234cf82d",
   "metadata": {},
   "outputs": [],
   "source": [
    "import pymongo  \n",
    "from pymongo import errors, DESCENDING, ASCENDING\n",
    "\n",
    "from bson import ObjectId\n",
    "from pprint import pprint\n",
    "import bcrypt"
   ]
  },
  {
   "cell_type": "code",
   "execution_count": 3,
   "id": "e723fb73",
   "metadata": {},
   "outputs": [],
   "source": [
    "client = pymongo.MongoClient('localhost', 27017)"
   ]
  },
  {
   "cell_type": "code",
   "execution_count": 4,
   "id": "566c85a4",
   "metadata": {},
   "outputs": [
    {
     "name": "stdout",
     "output_type": "stream",
     "text": [
      "Pinged your deployment. You successfully connected to MongoDB!\n"
     ]
    }
   ],
   "source": [
    "# проверить соединение\n",
    "try:\n",
    "    client.admin.command('ping')\n",
    "    print(\"Pinged your deployment. You successfully connected to MongoDB!\")\n",
    "except Exception as e:\n",
    "    print(e)"
   ]
  },
  {
   "cell_type": "code",
   "execution_count": 5,
   "id": "858203c6",
   "metadata": {},
   "outputs": [],
   "source": [
    "booksync = client.booksync"
   ]
  },
  {
   "cell_type": "markdown",
   "id": "3760fb7b",
   "metadata": {},
   "source": [
    "## Добавление книг"
   ]
  },
  {
   "cell_type": "code",
   "execution_count": 6,
   "id": "226b0dbe",
   "metadata": {},
   "outputs": [],
   "source": [
    "book_validator = {\n",
    "    '$jsonSchema': {\n",
    "        'bsonType': 'object',\n",
    "        'required': ['title', 'author', 'description', 'genres', 'year'],\n",
    "        'properties': {\n",
    "            'title': {\n",
    "                'bsonType': 'string',\n",
    "            },\n",
    "            'author': {\n",
    "                'bsonType': 'string',\n",
    "            },\n",
    "            'description': {\n",
    "                'bsonType': 'string',\n",
    "            },\n",
    "            'year': {\n",
    "                'bsonType': 'int',\n",
    "            },\n",
    "            'avg_rating': {\n",
    "                'bsonType': 'double',\n",
    "            },\n",
    "            'genres': {\n",
    "                'bsonType': 'array',\n",
    "                'items': {\n",
    "                    'bsonType': 'string'\n",
    "                },\n",
    "                'minItems': 1,\n",
    "                'uniqueItems': True\n",
    "            },\n",
    "            'users_liked': {\n",
    "                'bsonType': 'array',\n",
    "                'items': {\n",
    "                    'bsonType': 'objectId'\n",
    "                },\n",
    "                'minItems': 1,\n",
    "                'uniqueItems': True\n",
    "            },\n",
    "            'reviews': {\n",
    "                'bsonType': 'array',\n",
    "                'items': {\n",
    "                    'bsonType': 'objectId',\n",
    "                        }\n",
    "                    }\n",
    "                }\n",
    "            }\n",
    "        }\n"
   ]
  },
  {
   "cell_type": "code",
   "execution_count": 7,
   "id": "c291e051",
   "metadata": {},
   "outputs": [],
   "source": [
    "# booksync.drop_collection('books')"
   ]
  },
  {
   "cell_type": "code",
   "execution_count": 8,
   "id": "d618af99",
   "metadata": {},
   "outputs": [
    {
     "data": {
      "text/plain": [
       "Collection(Database(MongoClient(host=['localhost:27017'], document_class=dict, tz_aware=False, connect=True), 'booksync'), 'books')"
      ]
     },
     "execution_count": 8,
     "metadata": {},
     "output_type": "execute_result"
    }
   ],
   "source": [
    "booksync.create_collection('books', validator=book_validator)"
   ]
  },
  {
   "cell_type": "code",
   "execution_count": 9,
   "id": "29dd81d6",
   "metadata": {},
   "outputs": [
    {
     "data": {
      "text/plain": [
       "'title_1_author_1'"
      ]
     },
     "execution_count": 9,
     "metadata": {},
     "output_type": "execute_result"
    }
   ],
   "source": [
    "booksync.books.create_index([(\"title\", 1), (\"author\", 1)], unique=True)\n"
   ]
  },
  {
   "cell_type": "code",
   "execution_count": 10,
   "id": "9f33fdf1",
   "metadata": {},
   "outputs": [],
   "source": [
    "def add_book(title, author, description, genres, year):\n",
    "\n",
    "    if not all([title, author, description, genres, year]):\n",
    "        print(\"Ошибка: не все обязательные поля заполнены.\")\n",
    "        return None\n",
    "\n",
    "    book = {\n",
    "        \"title\": title,\n",
    "        \"author\": author,\n",
    "        \"description\": description,\n",
    "        \"genres\": genres,\n",
    "        \"year\": year,\n",
    "        \"reviews\": []\n",
    "    }\n",
    "    \n",
    "    try:\n",
    "        result = booksync.books.insert_one(book)\n",
    "        print(f\"✅ Книга добавлена с ID: {result.inserted_id}\")\n",
    "        return result.inserted_id\n",
    "    except errors.DuplicateKeyError as e:\n",
    "        print(f\" ❌Книга ужe существует с ID: {booksync.books.find({'title': title, 'author': author})[0]['_id']}\")\n",
    "\n"
   ]
  },
  {
   "cell_type": "code",
   "execution_count": 11,
   "id": "2209c657",
   "metadata": {},
   "outputs": [],
   "source": [
    "# Список книг для добавления\n",
    "books = [\n",
    "    {\n",
    "        \"title\": \"Мастер и Маргарита\",\n",
    "        \"author\": \"Михаил Булгаков\",\n",
    "        \"description\": \"Роман о дьяволе, любви и свободе, действие которого разворачивается в Москве и древнем Иерусалиме.\",\n",
    "        \"genres\": [\"Классика\", \"Мистика\", \"Фантастика\"],\n",
    "        \"year\": 1967\n",
    "    },\n",
    "    {\n",
    "        \"title\": \"Преступление и наказание\",\n",
    "        \"author\": \"Фёдор Достоевский\",\n",
    "        \"description\": \"Философский роман о нравственных терзаниях студента Раскольникова, совершившего преступление.\",\n",
    "        \"genres\": [\"Классика\", \"Психологическая драма\"],\n",
    "        \"year\": 1866\n",
    "    },\n",
    "    {\n",
    "        \"title\": \"Война и мир\",\n",
    "        \"author\": \"Лев Толстой\",\n",
    "        \"description\": \"Монументальный роман о войне 1812 года, судьбах дворянских семей и философских размышлениях о жизни.\",\n",
    "        \"genres\": [\"Классика\", \"Исторический роман\"],\n",
    "        \"year\": 1869\n",
    "    },\n",
    "    {\n",
    "        \"title\": \"Пикник на обочине\",\n",
    "        \"author\": \"Аркадий и Борис Стругацкие\",\n",
    "        \"description\": \"Научно-фантастический роман о загадочных Зонах и сталкерах, исследующих их тайны.\",\n",
    "        \"genres\": [\"Фантастика\", \"Научная фантастика\"],\n",
    "        \"year\": 1972\n",
    "    },\n",
    "    {\n",
    "        \"title\": \"1984\",\n",
    "        \"author\": \"Джордж Оруэлл\",\n",
    "        \"description\": \"Антиутопия о тоталитарном обществе, где 'Большой Брат' следит за всеми.\",\n",
    "        \"genres\": [\"Дистопия\", \"Политическая фантастика\"],\n",
    "        \"year\": 1949\n",
    "    }\n",
    "]"
   ]
  },
  {
   "cell_type": "code",
   "execution_count": 12,
   "id": "8b3dfab8",
   "metadata": {},
   "outputs": [
    {
     "name": "stdout",
     "output_type": "stream",
     "text": [
      "✅ Книга добавлена с ID: 67e6e56531bb3cdab1d6128e\n",
      "✅ Книга добавлена с ID: 67e6e56531bb3cdab1d6128f\n",
      "✅ Книга добавлена с ID: 67e6e56531bb3cdab1d61290\n",
      "✅ Книга добавлена с ID: 67e6e56531bb3cdab1d61291\n",
      "✅ Книга добавлена с ID: 67e6e56531bb3cdab1d61292\n"
     ]
    }
   ],
   "source": [
    "# Добавляем книги в базу\n",
    "for book in books:\n",
    "    add_book(**book)\n"
   ]
  },
  {
   "cell_type": "code",
   "execution_count": 13,
   "id": "68ecc07a",
   "metadata": {},
   "outputs": [
    {
     "name": "stdout",
     "output_type": "stream",
     "text": [
      " ❌Книга ужe существует с ID: 67e6e56531bb3cdab1d6128e\n",
      " ❌Книга ужe существует с ID: 67e6e56531bb3cdab1d6128f\n",
      " ❌Книга ужe существует с ID: 67e6e56531bb3cdab1d61290\n",
      " ❌Книга ужe существует с ID: 67e6e56531bb3cdab1d61291\n",
      " ❌Книга ужe существует с ID: 67e6e56531bb3cdab1d61292\n"
     ]
    }
   ],
   "source": [
    "# Добавляем книги в базу\n",
    "for book in books:\n",
    "    add_book(**book)\n"
   ]
  },
  {
   "cell_type": "markdown",
   "id": "0b3e8590",
   "metadata": {},
   "source": [
    "## Пользователи"
   ]
  },
  {
   "cell_type": "code",
   "execution_count": 14,
   "id": "731ead72",
   "metadata": {},
   "outputs": [],
   "source": [
    "user_validator = {\n",
    "    \"$jsonSchema\": {\n",
    "        \"bsonType\": \"object\",\n",
    "        \"required\": [\"username\", \"password_hash\"],\n",
    "        \"properties\": {\n",
    "            \"username\": {\n",
    "                \"bsonType\": \"string\",\n",
    "                \"description\": \"Уникальный логин пользователя\"\n",
    "            },\n",
    "            \"password_hash\": {\n",
    "                \"bsonType\": \"string\",\n",
    "                \"description\": \"Хешированный пароль\"\n",
    "            },\n",
    "            \"favorite_books\": {\n",
    "                \"bsonType\": \"array\",\n",
    "                \"items\": {\n",
    "                    \"bsonType\": \"objectId\",\n",
    "                }\n",
    "                },\n",
    "            \"reviews\": {\n",
    "                \"bsonType\": \"array\",\n",
    "                \"items\": {\n",
    "                    \"bsonType\": \"objectId\",\n",
    "                }\n",
    "            }\n",
    "        \n",
    "        }\n",
    "    }\n",
    "}\n"
   ]
  },
  {
   "cell_type": "code",
   "execution_count": 15,
   "id": "37af89f2",
   "metadata": {},
   "outputs": [],
   "source": [
    "# booksync.drop_collection('users')"
   ]
  },
  {
   "cell_type": "code",
   "execution_count": 16,
   "id": "b6c96c9b",
   "metadata": {},
   "outputs": [
    {
     "data": {
      "text/plain": [
       "'username_1'"
      ]
     },
     "execution_count": 16,
     "metadata": {},
     "output_type": "execute_result"
    }
   ],
   "source": [
    "booksync.create_collection('users', validator=user_validator)\n",
    "booksync.users.create_index(\"username\", unique=True)"
   ]
  },
  {
   "cell_type": "code",
   "execution_count": 17,
   "id": "5eebc056",
   "metadata": {},
   "outputs": [],
   "source": [
    "def hash_password(password):\n",
    "    \"\"\"Хеширует пароль с использованием bcrypt.\"\"\"\n",
    "    salt = bcrypt.gensalt()\n",
    "    return bcrypt.hashpw(password.encode('utf-8'), salt).decode('utf-8')\n",
    "\n",
    "def add_user(username, password):\n",
    "    \"\"\"\n",
    "    Добавляет пользователя в базу, если username уникален.\n",
    "    \n",
    "    :param username: str – логин (должен быть уникальным)\n",
    "    :param email: str – email\n",
    "    :param password: str – пароль (он будет хеширован)\n",
    "    :param favorite_books: list – список ObjectId любимых книг (опционально)\n",
    "    :return: ObjectId – ID добавленного пользователя или None, если имя занято\n",
    "    \"\"\"\n",
    "    if not all([username, password]):\n",
    "        print(\"❌ Ошибка: все поля должны быть заполнены.\")\n",
    "        return None\n",
    "\n",
    "    user = {\n",
    "        \"username\": username,\n",
    "        \"password_hash\": hash_password(password),\n",
    "    }\n",
    "\n",
    "    try:\n",
    "        result = booksync.users.insert_one(user)\n",
    "        print(f\"✅ Пользователь добавлен с ID: {result.inserted_id}\")\n",
    "    except errors.DuplicateKeyError:\n",
    "        print(f\"❌ Ошибка: имя пользователя '{username}' уже занято.\")\n"
   ]
  },
  {
   "cell_type": "code",
   "execution_count": 18,
   "id": "557feb07",
   "metadata": {},
   "outputs": [
    {
     "name": "stdout",
     "output_type": "stream",
     "text": [
      "✅ Пользователь добавлен с ID: 67e6e63b31bb3cdab1d61298\n",
      "❌ Ошибка: имя пользователя 'reader1' уже занято.\n",
      "✅ Пользователь добавлен с ID: 67e6e63c31bb3cdab1d6129a\n",
      "✅ Пользователь добавлен с ID: 67e6e63c31bb3cdab1d6129b\n"
     ]
    }
   ],
   "source": [
    "add_user(\"reader1\", \"securepassword123\")\n",
    "add_user(\"reader1\", \"securepassword456\")  # Повторное имя\n",
    "add_user(\"Nastya\", \"1234\")\n",
    "add_user(\"Yanina\", \"101010101\")\n"
   ]
  },
  {
   "cell_type": "code",
   "execution_count": 19,
   "id": "e524d958",
   "metadata": {},
   "outputs": [],
   "source": [
    "#Добавить книгу в избранное\n",
    "def like(username, book_title, author):\n",
    "    user_id = booksync.users.find({'username': username})[0]['_id']\n",
    "    book_id = booksync.books.find({'title': book_title, 'author': author})[0]['_id']\n",
    "\n",
    "    # Добавляем ссылку на отзыв в пользователя\n",
    "    booksync.users.update_one(\n",
    "        {\"_id\": ObjectId(user_id)},\n",
    "        {\"$push\": {\"favorite_books\": book_id}}\n",
    "    )"
   ]
  },
  {
   "cell_type": "code",
   "execution_count": 20,
   "id": "a917bdd8",
   "metadata": {},
   "outputs": [],
   "source": [
    "like('Nastya', 'Мастер и Маргарита', 'Михаил Булгаков')\n",
    "like('Nastya', 'Преступление и наказание', 'Фёдор Достоевский')\n",
    "like('Nastya', 'Война и мир', 'Лев Толстой')"
   ]
  },
  {
   "cell_type": "markdown",
   "id": "cbe4883a",
   "metadata": {},
   "source": [
    "## Отзывы\n",
    "Айди отзыва харинтся у пользователя и у книги\n",
    "\n",
    "После добавления отзыва обновляется средний рейтинг книги"
   ]
  },
  {
   "cell_type": "code",
   "execution_count": 21,
   "id": "d26716b4",
   "metadata": {},
   "outputs": [],
   "source": [
    "review_validator = {\n",
    "    \"$jsonSchema\": {\n",
    "        \"bsonType\": \"object\",\n",
    "        \"required\": [\"user_id\", \"book_id\", \"rating\"],\n",
    "        \"properties\": {\n",
    "            \"user_id\": {\n",
    "                \"bsonType\": \"objectId\",\n",
    "            },\n",
    "            \"book_id\": {\n",
    "                \"bsonType\": \"objectId\",\n",
    "            },\n",
    "            \"text\": {\n",
    "                \"bsonType\": \"string\",\n",
    "            },\n",
    "            \"rating\": {\n",
    "                    'bsonType': 'int',\n",
    "                    'minimum': 1,\n",
    "                    'maximum': 5\n",
    "            }\n",
    "        }\n",
    "    }\n",
    "}\n"
   ]
  },
  {
   "cell_type": "code",
   "execution_count": 22,
   "id": "4ed9bdec",
   "metadata": {},
   "outputs": [],
   "source": [
    "# booksync.drop_collection('reviews')"
   ]
  },
  {
   "cell_type": "code",
   "execution_count": 23,
   "id": "812bae37",
   "metadata": {},
   "outputs": [
    {
     "data": {
      "text/plain": [
       "Collection(Database(MongoClient(host=['localhost:27017'], document_class=dict, tz_aware=False, connect=True), 'booksync'), 'reviews')"
      ]
     },
     "execution_count": 23,
     "metadata": {},
     "output_type": "execute_result"
    }
   ],
   "source": [
    "booksync.create_collection('reviews', validator=review_validator)"
   ]
  },
  {
   "cell_type": "code",
   "execution_count": 24,
   "id": "56a620f7",
   "metadata": {},
   "outputs": [],
   "source": [
    "def add_review(username, book_title, author, rating, text=\"\"):\n",
    "    user_id = booksync.users.find({'username': username})[0]['_id']\n",
    "    book_id = booksync.books.find({'title': book_title, 'author': author})[0]['_id']\n",
    "\n",
    "    review = {\n",
    "        \"user_id\": ObjectId(user_id),\n",
    "        \"book_id\": ObjectId(book_id),\n",
    "        \"rating\": rating,\n",
    "        \"text\": text\n",
    "    }\n",
    "\n",
    "    review_result = booksync.reviews.insert_one(review)\n",
    "    review_id = review_result.inserted_id\n",
    "\n",
    "    booksync.users.update_one(\n",
    "        {\"_id\": ObjectId(user_id)},\n",
    "        {\"$push\": {\"reviews\": review_id}}\n",
    "    )\n",
    "\n",
    "    booksync.books.update_one(\n",
    "        {\"_id\": ObjectId(book_id)},\n",
    "        {\"$push\": {\"reviews\": review_id}}\n",
    "    )\n",
    "\n",
    "    update_avg_rating(book_id)\n",
    "\n",
    "    print(f\"✅ Отзыв {review_id} добавлен!\")\n",
    "    return review_id\n",
    "\n",
    "def update_avg_rating(book_id):\n",
    "    \"\"\"\n",
    "    Пересчитывает средний рейтинг книги по всем отзывам.\n",
    "\n",
    "    :param book_id: ObjectId - ID книги\n",
    "    \"\"\"\n",
    "    book_id = ObjectId(book_id)\n",
    "\n",
    "    # Получаем все рейтинги для данной книги\n",
    "    ratings = booksync.reviews.find({\"book_id\": book_id}, {\"rating\": 1})\n",
    "    ratings_list = [r[\"rating\"] for r in ratings]\n",
    "\n",
    "    if ratings_list:\n",
    "        avg_rating = sum(ratings_list) / len(ratings_list)\n",
    "        booksync.books.update_one({\"_id\": book_id}, {\"$set\": {\"avg_rating\": avg_rating}})\n"
   ]
  },
  {
   "cell_type": "code",
   "execution_count": 25,
   "id": "41904bdf",
   "metadata": {},
   "outputs": [
    {
     "name": "stdout",
     "output_type": "stream",
     "text": [
      "✅ Отзыв 67e6e6de31bb3cdab1d6129c добавлен!\n",
      "✅ Отзыв 67e6e6de31bb3cdab1d6129d добавлен!\n",
      "✅ Отзыв 67e6e6de31bb3cdab1d6129e добавлен!\n",
      "✅ Отзыв 67e6e6de31bb3cdab1d6129f добавлен!\n",
      "✅ Отзыв 67e6e6de31bb3cdab1d612a0 добавлен!\n",
      "✅ Отзыв 67e6e6de31bb3cdab1d612a1 добавлен!\n",
      "✅ Отзыв 67e6e6de31bb3cdab1d612a2 добавлен!\n",
      "✅ Отзыв 67e6e6de31bb3cdab1d612a3 добавлен!\n",
      "✅ Отзыв 67e6e6de31bb3cdab1d612a4 добавлен!\n",
      "✅ Отзыв 67e6e6de31bb3cdab1d612a5 добавлен!\n",
      "✅ Отзыв 67e6e6df31bb3cdab1d612a6 добавлен!\n",
      "✅ Отзыв 67e6e6df31bb3cdab1d612a7 добавлен!\n",
      "✅ Отзыв 67e6e6df31bb3cdab1d612a8 добавлен!\n"
     ]
    },
    {
     "data": {
      "text/plain": [
       "ObjectId('67e6e6df31bb3cdab1d612a8')"
      ]
     },
     "execution_count": 25,
     "metadata": {},
     "output_type": "execute_result"
    }
   ],
   "source": [
    "add_review('Nastya', 'Мастер и Маргарита', 'Михаил Булгаков', 5, 'Отличная книга! В самое сердце')\n",
    "add_review('Yanina', 'Мастер и Маргарита', 'Михаил Булгаков', 4, 'Интересно, но немного затянуто')\n",
    "\n",
    "add_review('reader1', '1984', 'Джордж Оруэлл', 5, 'Очень актуальная книга!')\n",
    "add_review('Nastya', '1984', 'Джордж Оруэлл', 1, 'Типичная антиутопия, ничего нового')\n",
    "add_review('Yanina', '1984', 'Джордж Оруэлл', 5)\n",
    "\n",
    "add_review('Nastya', 'Преступление и наказание', 'Фёдор Достоевский', 5, 'Сложно, но достойно внимания')\n",
    "add_review('Yanina', 'Преступление и наказание', 'Фёдор Достоевский', 3, 'Глубокий смысл, шикарно!')\n",
    "\n",
    "add_review('reader1', 'Пикник на обочине', 'Аркадий и Борис Стругацкие', 5)\n",
    "add_review('Nastya', 'Пикник на обочине', 'Аркадий и Борис Стругацкие', 2)\n",
    "add_review('Yanina', 'Пикник на обочине', 'Аркадий и Борис Стругацкие', 4)\n",
    "\n",
    "add_review('reader1', 'Война и мир', 'Лев Толстой', 5, 'Книга моего дества! Сейчас взглянул с новой стороны')\n",
    "add_review('Nastya', 'Война и мир', 'Лев Толстой', 1)\n",
    "add_review('Yanina', 'Война и мир', 'Лев Толстой', 3)"
   ]
  },
  {
   "cell_type": "markdown",
   "id": "f1203577",
   "metadata": {},
   "source": [
    "# Функции\n",
    "1. Найти книгу по названию / жанру / автору / году\n",
    "2. Отсортировать книги по рейтингу\n",
    "3. Сгруппировать книги по жанру\n",
    "4. Посмотреть отзывы на книгу\n",
    "5. Посмотреть свои лайкнутые книги"
   ]
  },
  {
   "cell_type": "code",
   "execution_count": 28,
   "id": "54b416d6",
   "metadata": {},
   "outputs": [],
   "source": [
    "# Поиск\n",
    "def find_books(title=None, author=None, genre=None, year=None):\n",
    "    \"\"\"\n",
    "    Ищет книги по названию, автору, жанру или году.\n",
    "\n",
    "    :param title: str - Название книги (опционально)\n",
    "    :param author: str - Автор книги (опционально)\n",
    "    :param genre: str - Жанр (опционально)\n",
    "    :param year: int - Год выпуска (опционально)\n",
    "    :return: list - Найденные книги\n",
    "    \"\"\"\n",
    "    query = {}\n",
    "\n",
    "    if title:\n",
    "        query[\"title\"] = {\"$regex\": title, \"$options\": \"i\"}  # Регистронезависимый поиск\n",
    "    if author:\n",
    "        query[\"author\"] = {\"$regex\": author, \"$options\": \"i\"}\n",
    "    if genre:\n",
    "        query[\"genres\"] = genre  # Жанры хранятся как массив\n",
    "    if year:\n",
    "        query[\"year\"] = year\n",
    "\n",
    "    books = list(booksync.books.find(query, {\"_id\": 0}))\n",
    "    return books"
   ]
  },
  {
   "cell_type": "code",
   "execution_count": 30,
   "id": "5d59c620",
   "metadata": {},
   "outputs": [
    {
     "name": "stdout",
     "output_type": "stream",
     "text": [
      "[{'author': 'Джордж Оруэлл',\n",
      "  'avg_rating': 3.6666666666666665,\n",
      "  'description': \"Антиутопия о тоталитарном обществе, где 'Большой Брат' \"\n",
      "                 'следит за всеми.',\n",
      "  'genres': ['Дистопия', 'Политическая фантастика'],\n",
      "  'reviews': [ObjectId('67e6e6de31bb3cdab1d6129e'),\n",
      "              ObjectId('67e6e6de31bb3cdab1d6129f'),\n",
      "              ObjectId('67e6e6de31bb3cdab1d612a0')],\n",
      "  'title': '1984',\n",
      "  'year': 1949}]\n",
      "[{'author': 'Михаил Булгаков',\n",
      "  'avg_rating': 4.5,\n",
      "  'description': 'Роман о дьяволе, любви и свободе, действие которого '\n",
      "                 'разворачивается в Москве и древнем Иерусалиме.',\n",
      "  'genres': ['Классика', 'Мистика', 'Фантастика'],\n",
      "  'reviews': [ObjectId('67e6e6de31bb3cdab1d6129c'),\n",
      "              ObjectId('67e6e6de31bb3cdab1d6129d')],\n",
      "  'title': 'Мастер и Маргарита',\n",
      "  'year': 1967}]\n",
      "[]\n"
     ]
    }
   ],
   "source": [
    "pprint(find_books(title=\"1984\"))\n",
    "pprint(find_books(author=\"Булгаков\", genre=\"Классика\"))\n",
    "pprint(find_books(year=2023))"
   ]
  },
  {
   "cell_type": "code",
   "execution_count": 32,
   "id": "2fdcbc2e",
   "metadata": {},
   "outputs": [],
   "source": [
    "# Сортировка книг по рейтингу\n",
    "def get_top_books(limit=10, ascending=False):\n",
    "    \"\"\"\n",
    "    Получает топ книг по среднему рейтингу.\n",
    "\n",
    "    :param limit: int - Количество книг (по умолчанию 10)\n",
    "    :param ascending: bool - False (по убыванию), True (по возрастанию)\n",
    "    :return: list - Отсортированные книги\n",
    "    \"\"\"\n",
    "    order = ASCENDING if ascending else DESCENDING\n",
    "    books = list(booksync.books.find({}, {\"_id\": 0}).sort(\"avg_rating\", order).limit(limit))\n",
    "    return books\n"
   ]
  },
  {
   "cell_type": "code",
   "execution_count": 34,
   "id": "e8e3dc83",
   "metadata": {},
   "outputs": [
    {
     "name": "stdout",
     "output_type": "stream",
     "text": [
      "[{'author': 'Михаил Булгаков',\n",
      "  'avg_rating': 4.5,\n",
      "  'description': 'Роман о дьяволе, любви и свободе, действие которого '\n",
      "                 'разворачивается в Москве и древнем Иерусалиме.',\n",
      "  'genres': ['Классика', 'Мистика', 'Фантастика'],\n",
      "  'reviews': [ObjectId('67e6e6de31bb3cdab1d6129c'),\n",
      "              ObjectId('67e6e6de31bb3cdab1d6129d')],\n",
      "  'title': 'Мастер и Маргарита',\n",
      "  'year': 1967},\n",
      " {'author': 'Фёдор Достоевский',\n",
      "  'avg_rating': 4.0,\n",
      "  'description': 'Философский роман о нравственных терзаниях студента '\n",
      "                 'Раскольникова, совершившего преступление.',\n",
      "  'genres': ['Классика', 'Психологическая драма'],\n",
      "  'reviews': [ObjectId('67e6e6de31bb3cdab1d612a1'),\n",
      "              ObjectId('67e6e6de31bb3cdab1d612a2')],\n",
      "  'title': 'Преступление и наказание',\n",
      "  'year': 1866},\n",
      " {'author': 'Аркадий и Борис Стругацкие',\n",
      "  'avg_rating': 3.6666666666666665,\n",
      "  'description': 'Научно-фантастический роман о загадочных Зонах и сталкерах, '\n",
      "                 'исследующих их тайны.',\n",
      "  'genres': ['Фантастика', 'Научная фантастика'],\n",
      "  'reviews': [ObjectId('67e6e6de31bb3cdab1d612a3'),\n",
      "              ObjectId('67e6e6de31bb3cdab1d612a4'),\n",
      "              ObjectId('67e6e6de31bb3cdab1d612a5')],\n",
      "  'title': 'Пикник на обочине',\n",
      "  'year': 1972}]\n"
     ]
    }
   ],
   "source": [
    "pprint(get_top_books(limit=3))\n"
   ]
  },
  {
   "cell_type": "code",
   "execution_count": 35,
   "id": "6f933d72",
   "metadata": {},
   "outputs": [
    {
     "name": "stdout",
     "output_type": "stream",
     "text": [
      "[{'author': 'Лев Толстой',\n",
      "  'avg_rating': 3.0,\n",
      "  'description': 'Монументальный роман о войне 1812 года, судьбах дворянских '\n",
      "                 'семей и философских размышлениях о жизни.',\n",
      "  'genres': ['Классика', 'Исторический роман'],\n",
      "  'reviews': [ObjectId('67e6e6df31bb3cdab1d612a6'),\n",
      "              ObjectId('67e6e6df31bb3cdab1d612a7'),\n",
      "              ObjectId('67e6e6df31bb3cdab1d612a8')],\n",
      "  'title': 'Война и мир',\n",
      "  'year': 1869}]\n"
     ]
    }
   ],
   "source": [
    "pprint(get_top_books(limit=1, ascending=True))\n"
   ]
  },
  {
   "cell_type": "code",
   "execution_count": 38,
   "id": "8380da6d",
   "metadata": {},
   "outputs": [],
   "source": [
    "# Группировка книг по жанрам\n",
    "def group_books_by_genre():\n",
    "    \"\"\"\n",
    "    Группирует книги по жанрам.\n",
    "\n",
    "    :return: dict - Жанры с книгами\n",
    "    \"\"\"\n",
    "    pipeline = [\n",
    "        {\"$unwind\": \"$genres\"},\n",
    "        {\"$group\": {\"_id\": \"$genres\", \"books\": {\"$push\": \"$title\"}}}\n",
    "    ]\n",
    "    grouped = booksync.books.aggregate(pipeline)\n",
    "\n",
    "    return {genre[\"_id\"]: genre[\"books\"] for genre in grouped}\n"
   ]
  },
  {
   "cell_type": "code",
   "execution_count": 39,
   "id": "f5691806",
   "metadata": {},
   "outputs": [
    {
     "name": "stdout",
     "output_type": "stream",
     "text": [
      "{'Дистопия': ['1984'],\n",
      " 'Исторический роман': ['Война и мир'],\n",
      " 'Классика': ['Мастер и Маргарита', 'Преступление и наказание', 'Война и мир'],\n",
      " 'Мистика': ['Мастер и Маргарита'],\n",
      " 'Научная фантастика': ['Пикник на обочине'],\n",
      " 'Политическая фантастика': ['1984'],\n",
      " 'Психологическая драма': ['Преступление и наказание'],\n",
      " 'Фантастика': ['Мастер и Маргарита', 'Пикник на обочине']}\n"
     ]
    }
   ],
   "source": [
    "pprint(group_books_by_genre())\n"
   ]
  },
  {
   "cell_type": "code",
   "execution_count": 50,
   "id": "c1365421",
   "metadata": {},
   "outputs": [],
   "source": [
    "# Получить отзывы на книгу\n",
    "def get_reviews_for_book(title, author):\n",
    "    \"\"\"\n",
    "    Возвращает отзывы на книгу.\n",
    "\n",
    "    :param title: str - Название книги\n",
    "    :param author: str - Автор книги\n",
    "    :return: list - Список отзывов\n",
    "    \"\"\"\n",
    "    book = booksync.books.find_one({\"title\": title, \"author\": author})\n",
    "    if not book:\n",
    "        print(f\"❌ Ошибка: книга '{title}' ({author}) не найдена!\")\n",
    "        return []\n",
    "\n",
    "    reviews = list(booksync.reviews.find({\"book_id\": book[\"_id\"]}, {\"_id\": 0, \"user_id\": 1, \"rating\": 1, \"text\": 1}))\n",
    "        # Добавляем имя пользователя к каждому отзыву\n",
    "    for review in reviews:\n",
    "        user = booksync.users.find_one({\"_id\": review[\"user_id\"]}, {\"username\": 1})\n",
    "        review[\"username\"] = user[\"username\"] if user else \"Неизвестный пользователь\"\n",
    "\n",
    "    return reviews\n"
   ]
  },
  {
   "cell_type": "code",
   "execution_count": 53,
   "id": "b80b9c55",
   "metadata": {},
   "outputs": [
    {
     "name": "stdout",
     "output_type": "stream",
     "text": [
      "[{'rating': 5,\n",
      "  'text': 'Отличная книга! В самое сердце',\n",
      "  'user_id': ObjectId('67e6e63c31bb3cdab1d6129a'),\n",
      "  'username': 'Nastya'},\n",
      " {'rating': 4,\n",
      "  'text': 'Интересно, но немного затянуто',\n",
      "  'user_id': ObjectId('67e6e63c31bb3cdab1d6129b'),\n",
      "  'username': 'Yanina'}]\n"
     ]
    }
   ],
   "source": [
    "pprint(get_reviews_for_book(\"Мастер и Маргарита\", \"Михаил Булгаков\"))"
   ]
  },
  {
   "cell_type": "code",
   "execution_count": 54,
   "id": "c287d14c",
   "metadata": {},
   "outputs": [],
   "source": [
    "# Посмотреть лайкнутые книги пользователя\n",
    "def get_liked_books(username):\n",
    "    \"\"\"\n",
    "    Возвращает список книг, которые лайкнул пользователь.\n",
    "\n",
    "    :param username: str - Имя пользователя\n",
    "    :return: list - Список книг\n",
    "    \"\"\"\n",
    "    user = booksync.users.find_one({\"username\": username})\n",
    "    if not user:\n",
    "        print(f\"❌ Ошибка: пользователь '{username}' не найден!\")\n",
    "        return []\n",
    "\n",
    "    liked_books_ids = booksync.users.find({\"_id\": user[\"_id\"]})[0]['favorite_books']\n",
    "    liked_books = [booksync.books.find({\"_id\": id})[0]['title'] for id in liked_books_ids]\n",
    "    return liked_books\n"
   ]
  },
  {
   "cell_type": "code",
   "execution_count": 55,
   "id": "44cde6c6",
   "metadata": {},
   "outputs": [
    {
     "name": "stdout",
     "output_type": "stream",
     "text": [
      "['Мастер и Маргарита', 'Преступление и наказание', 'Война и мир']\n"
     ]
    }
   ],
   "source": [
    "print(get_liked_books(\"Nastya\"))\n"
   ]
  },
  {
   "cell_type": "code",
   "execution_count": null,
   "id": "b36001fe",
   "metadata": {},
   "outputs": [],
   "source": []
  }
 ],
 "metadata": {
  "kernelspec": {
   "display_name": "Python 3 (ipykernel)",
   "language": "python",
   "name": "python3"
  },
  "language_info": {
   "codemirror_mode": {
    "name": "ipython",
    "version": 3
   },
   "file_extension": ".py",
   "mimetype": "text/x-python",
   "name": "python",
   "nbconvert_exporter": "python",
   "pygments_lexer": "ipython3",
   "version": "3.11.5"
  }
 },
 "nbformat": 4,
 "nbformat_minor": 5
}
